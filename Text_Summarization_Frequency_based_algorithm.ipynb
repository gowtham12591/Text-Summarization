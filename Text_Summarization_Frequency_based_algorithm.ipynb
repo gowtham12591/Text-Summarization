{
  "cells": [
    {
      "cell_type": "markdown",
      "metadata": {
        "id": "GUEq8nGVXtwL"
      },
      "source": [
        "# Text summarization - Frequency based algorithm"
      ]
    },
    {
      "cell_type": "markdown",
      "metadata": {
        "id": "LCiAiO8LULAm"
      },
      "source": [
        "# Preprocessing the texts"
      ]
    },
    {
      "cell_type": "code",
      "execution_count": null,
      "metadata": {
        "id": "0HZjp-jubESI"
      },
      "outputs": [],
      "source": [
        "import re # relugar expression\n",
        "import nltk # natural language toolkit\n",
        "import string"
      ]
    },
    {
      "cell_type": "code",
      "execution_count": null,
      "metadata": {
        "id": "BesYuheBbWp8"
      },
      "outputs": [],
      "source": [
        "# I added the word machine at the end of the last sentence\n",
        "original_text = \"\"\"Artificial intelligence is human like intelligence. \n",
        "                   It is the study of intelligent artificial agents. \n",
        "                   Science and engineering to produce intelligent machines. \n",
        "                   Solve problems and have intelligence. \n",
        "                   Related to intelligent behavior. \n",
        "                   Developing of reasoning machines. \n",
        "                   Learn from mistakes and successes. \n",
        "                   Artificial intelligence is related to reasoning in everyday situations.\"\"\""
      ]
    },
    {
      "cell_type": "code",
      "execution_count": null,
      "metadata": {
        "colab": {
          "base_uri": "https://localhost:8080/",
          "height": 90
        },
        "id": "dm1fqjpobw11",
        "outputId": "da97d468-0212-4438-b1d9-a48799b8f2eb"
      },
      "outputs": [],
      "source": [
        "original_text"
      ]
    },
    {
      "cell_type": "code",
      "execution_count": null,
      "metadata": {
        "id": "4CSuPnw3b-9u"
      },
      "outputs": [],
      "source": [
        "original_text = re.sub(r'\\s+', ' ', original_text)"
      ]
    },
    {
      "cell_type": "code",
      "execution_count": null,
      "metadata": {
        "colab": {
          "base_uri": "https://localhost:8080/",
          "height": 72
        },
        "id": "TNiNkUCwccI6",
        "outputId": "d1663b36-01de-4da8-a887-de8cf476e47e"
      },
      "outputs": [],
      "source": [
        "original_text"
      ]
    },
    {
      "cell_type": "code",
      "execution_count": null,
      "metadata": {
        "colab": {
          "base_uri": "https://localhost:8080/"
        },
        "id": "JFEnOfcIehoU",
        "outputId": "a90b019d-2073-4cbc-ec67-ebdcc81f8236"
      },
      "outputs": [],
      "source": [
        "nltk.download('punkt')"
      ]
    },
    {
      "cell_type": "code",
      "execution_count": null,
      "metadata": {
        "colab": {
          "base_uri": "https://localhost:8080/"
        },
        "id": "AEUpuAWWfBIo",
        "outputId": "7dd35a13-0585-4e7a-8985-f173bc14a10e"
      },
      "outputs": [],
      "source": [
        "nltk.download('stopwords')"
      ]
    },
    {
      "cell_type": "code",
      "execution_count": null,
      "metadata": {
        "colab": {
          "base_uri": "https://localhost:8080/"
        },
        "id": "WSsuVgB4fG2m",
        "outputId": "3145b307-bb42-44a9-c0fd-292e0ab4f1ad"
      },
      "outputs": [],
      "source": [
        "stopwords = nltk.corpus.stopwords.words('english')\n",
        "print(stopwords)"
      ]
    },
    {
      "cell_type": "code",
      "execution_count": null,
      "metadata": {
        "colab": {
          "base_uri": "https://localhost:8080/"
        },
        "id": "fdd8VPuwfcgG",
        "outputId": "a884cfa9-5765-4fae-e0ae-4801e4feca30"
      },
      "outputs": [],
      "source": [
        "len(stopwords)"
      ]
    },
    {
      "cell_type": "code",
      "execution_count": null,
      "metadata": {
        "colab": {
          "base_uri": "https://localhost:8080/",
          "height": 37
        },
        "id": "wpJ2mHUmganw",
        "outputId": "769bef34-4f5a-4a03-a7b1-de02aeb7480f"
      },
      "outputs": [],
      "source": [
        "string.punctuation"
      ]
    },
    {
      "cell_type": "code",
      "execution_count": null,
      "metadata": {
        "id": "wR32GNDedjuL"
      },
      "outputs": [],
      "source": [
        "def preprocess(text):\n",
        "  formatted_text = text.lower()\n",
        "  tokens = []\n",
        "  for token in nltk.word_tokenize(formatted_text):\n",
        "    tokens.append(token)\n",
        "  #print(tokens)\n",
        "  tokens = [word for word in tokens if word not in stopwords and word not in string.punctuation]\n",
        "  formatted_text = ' '.join(element for element in tokens)\n",
        "\n",
        "  return formatted_text"
      ]
    },
    {
      "cell_type": "code",
      "execution_count": null,
      "metadata": {
        "colab": {
          "base_uri": "https://localhost:8080/",
          "height": 72
        },
        "id": "icNQm0wLdxAK",
        "outputId": "06bef34c-26ea-4a87-ad54-6ddacc0d52c1"
      },
      "outputs": [],
      "source": [
        "formatted_text = preprocess(original_text)\n",
        "formatted_text"
      ]
    },
    {
      "cell_type": "markdown",
      "metadata": {
        "id": "b9qp7RfhZAaK"
      },
      "source": [
        "# Word frequency"
      ]
    },
    {
      "cell_type": "code",
      "execution_count": null,
      "metadata": {
        "colab": {
          "base_uri": "https://localhost:8080/"
        },
        "id": "kjOMn0eUiT8d",
        "outputId": "4e6ec08f-c064-409b-e75e-3b0e060b54bd"
      },
      "outputs": [],
      "source": [
        "word_frequency = nltk.FreqDist(nltk.word_tokenize(formatted_text))\n",
        "word_frequency"
      ]
    },
    {
      "cell_type": "code",
      "execution_count": null,
      "metadata": {
        "colab": {
          "base_uri": "https://localhost:8080/"
        },
        "id": "fjXSn7tFjcsR",
        "outputId": "5db58dc4-7926-4a57-e6b8-75377163e375"
      },
      "outputs": [],
      "source": [
        "word_frequency['intelligence']"
      ]
    },
    {
      "cell_type": "code",
      "execution_count": null,
      "metadata": {
        "colab": {
          "base_uri": "https://localhost:8080/"
        },
        "id": "iYmClmlyjnSf",
        "outputId": "199e6b56-afff-4114-9750-ec9818c68f1b"
      },
      "outputs": [],
      "source": [
        "word_frequency.keys()"
      ]
    },
    {
      "cell_type": "code",
      "execution_count": null,
      "metadata": {
        "colab": {
          "base_uri": "https://localhost:8080/"
        },
        "id": "WdFljvgVjsSD",
        "outputId": "82e914e1-c51b-48e6-9fa6-5f72ae866017"
      },
      "outputs": [],
      "source": [
        "len(word_frequency.keys())"
      ]
    },
    {
      "cell_type": "code",
      "execution_count": null,
      "metadata": {
        "colab": {
          "base_uri": "https://localhost:8080/"
        },
        "id": "ONWhD4F0lmvc",
        "outputId": "090ef05d-41f5-4d27-dc1c-b71538542573"
      },
      "outputs": [],
      "source": [
        "highest_frequency = max(word_frequency.values())\n",
        "highest_frequency"
      ]
    },
    {
      "cell_type": "code",
      "execution_count": null,
      "metadata": {
        "id": "0HD8rDzBmEo-"
      },
      "outputs": [],
      "source": [
        "for word in word_frequency.keys():\n",
        "  #print(word)\n",
        "  word_frequency[word] = (word_frequency[word] / highest_frequency)"
      ]
    },
    {
      "cell_type": "code",
      "execution_count": null,
      "metadata": {
        "colab": {
          "base_uri": "https://localhost:8080/"
        },
        "id": "t1tBc-8WmX0X",
        "outputId": "9a4ffe07-04bc-496c-d0db-a87150186898"
      },
      "outputs": [],
      "source": [
        "word_frequency"
      ]
    },
    {
      "cell_type": "markdown",
      "metadata": {
        "id": "7SKF87yAZ3iW"
      },
      "source": [
        "# Sentence tokenization"
      ]
    },
    {
      "cell_type": "code",
      "execution_count": null,
      "metadata": {
        "colab": {
          "base_uri": "https://localhost:8080/"
        },
        "id": "dtjyIiSAoxZR",
        "outputId": "c4008e31-500d-47af-b8b5-401aff2c832c"
      },
      "outputs": [],
      "source": [
        "'Phd John went home. He arrived early.'.split('.')"
      ]
    },
    {
      "cell_type": "code",
      "execution_count": null,
      "metadata": {
        "colab": {
          "base_uri": "https://localhost:8080/"
        },
        "id": "fpSYb6vapinA",
        "outputId": "5632d54c-9dae-4052-ba4c-7e6a4e420000"
      },
      "outputs": [],
      "source": [
        "'Ph.d John went home. He arrived early.'.split('.')"
      ]
    },
    {
      "cell_type": "code",
      "execution_count": null,
      "metadata": {
        "colab": {
          "base_uri": "https://localhost:8080/"
        },
        "id": "LyitMJq9pxJu",
        "outputId": "d7bbf1ed-b77d-4be1-86c5-cfbab0c4bd29"
      },
      "outputs": [],
      "source": [
        "nltk.sent_tokenize('Ph.d John went home. He arrived early.')"
      ]
    },
    {
      "cell_type": "code",
      "execution_count": null,
      "metadata": {
        "colab": {
          "base_uri": "https://localhost:8080/"
        },
        "id": "mNrwIZJtqLZn",
        "outputId": "7d141e1b-c258-4342-db2b-cc4c2c9e49d0"
      },
      "outputs": [],
      "source": [
        "sentence_list = nltk.sent_tokenize(original_text)\n",
        "sentence_list"
      ]
    },
    {
      "cell_type": "markdown",
      "metadata": {
        "id": "6zNS8EciaQuC"
      },
      "source": [
        "# Generate the summary (score for sentences)"
      ]
    },
    {
      "cell_type": "code",
      "execution_count": null,
      "metadata": {
        "colab": {
          "base_uri": "https://localhost:8080/"
        },
        "id": "xwoSZAqbuFHg",
        "outputId": "d81c5ebb-5814-4c3b-a138-d4ad705bc100"
      },
      "outputs": [],
      "source": [
        "word_frequency"
      ]
    },
    {
      "cell_type": "code",
      "execution_count": null,
      "metadata": {
        "id": "OHQkxxxNuOck"
      },
      "outputs": [],
      "source": [
        "score_sentences = {}\n",
        "for sentence in sentence_list:\n",
        "  #print(sentence)\n",
        "  for word in nltk.word_tokenize(sentence.lower()):\n",
        "    #print(word)\n",
        "    if sentence not in score_sentences.keys():\n",
        "      score_sentences[sentence] = word_frequency[word]\n",
        "    else:\n",
        "      score_sentences[sentence] += word_frequency[word]"
      ]
    },
    {
      "cell_type": "code",
      "execution_count": null,
      "metadata": {
        "colab": {
          "base_uri": "https://localhost:8080/"
        },
        "id": "5ZFUrwYKv-jf",
        "outputId": "3eaa1b51-957b-4e57-ff54-0d7a766bc01b"
      },
      "outputs": [],
      "source": [
        "score_sentences"
      ]
    },
    {
      "cell_type": "code",
      "execution_count": null,
      "metadata": {
        "colab": {
          "base_uri": "https://localhost:8080/"
        },
        "id": "WimqIslVwF6-",
        "outputId": "5d12204f-cb79-4d29-9ebf-a75b53c89205"
      },
      "outputs": [],
      "source": [
        "score_sentences['Solve problems and have intelligence.']"
      ]
    },
    {
      "cell_type": "code",
      "execution_count": null,
      "metadata": {
        "colab": {
          "base_uri": "https://localhost:8080/"
        },
        "id": "of5mNwB4wLdA",
        "outputId": "80311597-2d3f-4519-fffc-61ca73e1917e"
      },
      "outputs": [],
      "source": [
        "score_sentences.keys()"
      ]
    },
    {
      "cell_type": "code",
      "execution_count": null,
      "metadata": {
        "id": "-XCIP6eGwP8B"
      },
      "outputs": [],
      "source": [
        "import heapq\n",
        "best_sentences = heapq.nlargest(3, score_sentences, key = score_sentences.get)"
      ]
    },
    {
      "cell_type": "code",
      "execution_count": null,
      "metadata": {
        "colab": {
          "base_uri": "https://localhost:8080/"
        },
        "id": "rrapW2JPxc-I",
        "outputId": "d5755a0a-962f-4f1a-d0cf-6f4c59b384c9"
      },
      "outputs": [],
      "source": [
        "best_sentences"
      ]
    },
    {
      "cell_type": "code",
      "execution_count": null,
      "metadata": {
        "colab": {
          "base_uri": "https://localhost:8080/",
          "height": 55
        },
        "id": "X6EJOkU0xvhL",
        "outputId": "39143da9-830e-4503-dd3f-fa16df69f4b0"
      },
      "outputs": [],
      "source": [
        "summary = ' '.join(best_sentences)\n",
        "summary"
      ]
    },
    {
      "cell_type": "code",
      "execution_count": null,
      "metadata": {
        "colab": {
          "base_uri": "https://localhost:8080/",
          "height": 72
        },
        "id": "5ETE6w4ix5zQ",
        "outputId": "421d415d-0ff5-4149-8bfd-a5ea327b2835"
      },
      "outputs": [],
      "source": [
        "original_text"
      ]
    },
    {
      "cell_type": "markdown",
      "metadata": {
        "id": "C05hd_M5c4yr"
      },
      "source": [
        "# Visualizing the summary in HTML"
      ]
    },
    {
      "cell_type": "code",
      "execution_count": null,
      "metadata": {
        "id": "3IyA9d1GzTcK"
      },
      "outputs": [],
      "source": [
        "from IPython.core.display import HTML"
      ]
    },
    {
      "cell_type": "code",
      "execution_count": null,
      "metadata": {
        "colab": {
          "base_uri": "https://localhost:8080/",
          "height": 117
        },
        "id": "_UGuvRA5zcDQ",
        "outputId": "0c755a6d-24eb-4d18-9d16-7d86a67d474b"
      },
      "outputs": [],
      "source": [
        "text = ''\n",
        "display(HTML(f'<h2>Summary</h2>'))  #Display the header name\n",
        "for sentence in sentence_list:\n",
        "  #print(sentence)\n",
        "  #text += sentence\n",
        "  if sentence in best_sentences:\n",
        "    text += ' ' + sentence.replace(sentence, f\"<mark>{sentence}</mark>\")\n",
        "  else:\n",
        "    text += ' ' + sentence\n",
        "\n",
        "display(HTML(f\"\"\"{text}\"\"\"))"
      ]
    },
    {
      "cell_type": "markdown",
      "metadata": {
        "id": "rJ0aG69oUxc2"
      },
      "source": [
        "# Extracting texts from the Internet"
      ]
    },
    {
      "cell_type": "code",
      "execution_count": null,
      "metadata": {
        "id": "hCYjnhxe2rm1"
      },
      "outputs": [],
      "source": [
        "!pip3 install goose3"
      ]
    },
    {
      "cell_type": "code",
      "execution_count": null,
      "metadata": {
        "id": "lu4BYqTs2zb2"
      },
      "outputs": [],
      "source": [
        "from goose3 import Goose"
      ]
    },
    {
      "cell_type": "code",
      "execution_count": null,
      "metadata": {
        "id": "HDtTD4NJ3AgX"
      },
      "outputs": [],
      "source": [
        "g = Goose()\n",
        "#url = 'https://en.wikipedia.org/wiki/Automatic_summarization'\n",
        "url = 'https://en.wikipedia.org/wiki/Natural_language_processing'\n",
        "article = g.extract(url)"
      ]
    },
    {
      "cell_type": "code",
      "execution_count": null,
      "metadata": {
        "colab": {
          "base_uri": "https://localhost:8080/"
        },
        "id": "37-3RNVG3YDh",
        "outputId": "e2334e76-9c1b-4279-8f88-4ef367d6c3e7"
      },
      "outputs": [],
      "source": [
        "article.infos"
      ]
    },
    {
      "cell_type": "code",
      "execution_count": null,
      "metadata": {
        "colab": {
          "base_uri": "https://localhost:8080/",
          "height": 37
        },
        "id": "Ls5slFpS3lCF",
        "outputId": "abba109a-bc46-484b-e224-af1b5fb2866d"
      },
      "outputs": [],
      "source": [
        "article.title"
      ]
    },
    {
      "cell_type": "code",
      "execution_count": null,
      "metadata": {
        "colab": {
          "base_uri": "https://localhost:8080/",
          "height": 161
        },
        "id": "KIMcqB4m3rCq",
        "outputId": "4d49fb5e-90af-4164-ef86-b943c2a3129c"
      },
      "outputs": [],
      "source": [
        "article.cleaned_text"
      ]
    },
    {
      "cell_type": "code",
      "execution_count": null,
      "metadata": {
        "colab": {
          "base_uri": "https://localhost:8080/"
        },
        "id": "jvkOagC43y6P",
        "outputId": "564d6fff-190e-4337-d00f-433c0b435c69"
      },
      "outputs": [],
      "source": [
        "len(article.cleaned_text)"
      ]
    },
    {
      "cell_type": "code",
      "execution_count": null,
      "metadata": {
        "colab": {
          "base_uri": "https://localhost:8080/",
          "height": 161
        },
        "id": "K7wPXfhQ33IF",
        "outputId": "26823032-4e31-47ca-937f-c7ec5f736084"
      },
      "outputs": [],
      "source": [
        "formatted_article = preprocess(article.cleaned_text)\n",
        "formatted_article"
      ]
    },
    {
      "cell_type": "code",
      "execution_count": null,
      "metadata": {
        "colab": {
          "base_uri": "https://localhost:8080/"
        },
        "id": "EtTiTJD34_06",
        "outputId": "1fe4dd3a-35da-48a9-f721-afdcf5ba0a42"
      },
      "outputs": [],
      "source": [
        "len(formatted_article)"
      ]
    },
    {
      "cell_type": "code",
      "execution_count": null,
      "metadata": {
        "id": "8eUAZ8h36WQE"
      },
      "outputs": [],
      "source": [
        "def summarize(text, number_of_sentences, percentage):\n",
        "  original_text = text\n",
        "  formatted_text = preprocess(original_text)\n",
        "\n",
        "  word_frequency = nltk.FreqDist(nltk.word_tokenize(formatted_text))\n",
        "  highest_frequency = max(word_frequency.values())\n",
        "  for word in word_frequency.keys():\n",
        "    word_frequency[word] = (word_frequency[word] / highest_frequency)\n",
        "  sentence_list = nltk.sent_tokenize(original_text)\n",
        "  \n",
        "  score_sentences = {}\n",
        "  for sentence in sentence_list:\n",
        "    for word in nltk.word_tokenize(sentence):\n",
        "      if word in word_frequency.keys():\n",
        "        if sentence not in score_sentences.keys():\n",
        "          score_sentences[sentence] = word_frequency[word]\n",
        "        else:\n",
        "          score_sentences[sentence] += word_frequency[word]\n",
        "\n",
        "  import heapq\n",
        "  if percentage > 0:\n",
        "    best_sentences = heapq.nlargest(int(len(sentence_list) * percentage), score_sentences, key=score_sentences.get)\n",
        "  else:\n",
        "    best_sentences = heapq.nlargest(number_of_sentences, score_sentences, key=score_sentences.get)\n",
        "\n",
        "  return sentence_list, best_sentences, word_frequency, score_sentences"
      ]
    },
    {
      "cell_type": "code",
      "execution_count": null,
      "metadata": {
        "colab": {
          "base_uri": "https://localhost:8080/"
        },
        "id": "H-Jot7Uy9I54",
        "outputId": "812966eb-9fe9-4605-ebef-08b10832c95a"
      },
      "outputs": [],
      "source": [
        "len(sentence_list)"
      ]
    },
    {
      "cell_type": "code",
      "execution_count": null,
      "metadata": {
        "colab": {
          "base_uri": "https://localhost:8080/"
        },
        "id": "xNqyufDp9XvL",
        "outputId": "4ffc7186-dccf-4ed1-e031-cc9e989bc286"
      },
      "outputs": [],
      "source": [
        "(50 / len(sentence_list)) * 100"
      ]
    },
    {
      "cell_type": "code",
      "execution_count": null,
      "metadata": {
        "id": "OCvPd38e7RDD"
      },
      "outputs": [],
      "source": [
        "sentence_list, best_sentences, word_frequency, score_sentences = summarize(article.cleaned_text, 50)"
      ]
    },
    {
      "cell_type": "code",
      "execution_count": null,
      "metadata": {
        "colab": {
          "base_uri": "https://localhost:8080/"
        },
        "id": "FS9xOXwg7nAv",
        "outputId": "99d674eb-505a-4afe-ac16-6f05210fb37e"
      },
      "outputs": [],
      "source": [
        "sentence_list"
      ]
    },
    {
      "cell_type": "code",
      "execution_count": null,
      "metadata": {
        "colab": {
          "base_uri": "https://localhost:8080/"
        },
        "id": "NRp9qC3f8BEp",
        "outputId": "cb1153cf-14af-4980-a519-b81d28c89cd2"
      },
      "outputs": [],
      "source": [
        "best_sentences"
      ]
    },
    {
      "cell_type": "code",
      "execution_count": null,
      "metadata": {
        "colab": {
          "base_uri": "https://localhost:8080/"
        },
        "id": "0udUNwhP8GV5",
        "outputId": "ec4e006c-7668-42f2-e73b-71f0456b1c36"
      },
      "outputs": [],
      "source": [
        "word_frequency"
      ]
    },
    {
      "cell_type": "code",
      "execution_count": null,
      "metadata": {
        "colab": {
          "base_uri": "https://localhost:8080/"
        },
        "id": "WmWhowBD8Xre",
        "outputId": "a15e913b-cdbd-4154-8530-a9210fa45906"
      },
      "outputs": [],
      "source": [
        "score_sentences"
      ]
    },
    {
      "cell_type": "code",
      "execution_count": null,
      "metadata": {
        "id": "zOJdEavGAo0-"
      },
      "outputs": [],
      "source": [
        "def visualize(title, sentence_list, best_sentences):\n",
        "  from IPython.core.display import HTML\n",
        "  text = ''\n",
        "\n",
        "  display(HTML(f'<h1>Summary - {title}</h1>'))\n",
        "  for sentence in sentence_list:\n",
        "    if sentence in best_sentences:\n",
        "      text += ' ' + str(sentence).replace(sentence, f\"<mark>{sentence}</mark>\")\n",
        "    else:\n",
        "      text += ' ' + sentence\n",
        "  display(HTML(f\"\"\" {text} \"\"\"))"
      ]
    },
    {
      "cell_type": "code",
      "execution_count": null,
      "metadata": {
        "colab": {
          "base_uri": "https://localhost:8080/",
          "height": 1000
        },
        "id": "bp1x3GJmBIUZ",
        "outputId": "742c9c28-a982-4e75-a7de-f1c330f59e95"
      },
      "outputs": [],
      "source": [
        "visualize(article.title, sentence_list, best_sentences)"
      ]
    },
    {
      "cell_type": "markdown",
      "metadata": {
        "id": "9FuLiqlkqP-V"
      },
      "source": [
        "# Summarizing multiple texts"
      ]
    },
    {
      "cell_type": "code",
      "execution_count": null,
      "metadata": {
        "id": "l2ClgHXjCub2"
      },
      "outputs": [],
      "source": [
        "article_list = ['https://en.wikipedia.org/wiki/Automatic_summarization',\n",
        "                'https://en.wikipedia.org/wiki/Natural_language_processing',\n",
        "                'https://en.wikipedia.org/wiki/Lemmatisation']"
      ]
    },
    {
      "cell_type": "code",
      "execution_count": null,
      "metadata": {
        "colab": {
          "base_uri": "https://localhost:8080/",
          "height": 1000
        },
        "id": "VBr2mXahC6Gq",
        "outputId": "54d6b465-ba3c-4ca1-a5d4-67f4983a9cdc"
      },
      "outputs": [],
      "source": [
        "for url in article_list:\n",
        "  #print(article)\n",
        "  g = Goose()\n",
        "  article = g.extract(url)\n",
        "  sentence_list, best_sentences, _, _ = summarize(article.cleaned_text, 100, percentage=0.5)\n",
        "  #print(len(sentence_list), len(best_sentences))\n",
        "  visualize(article.title, sentence_list, best_sentences)"
      ]
    },
    {
      "cell_type": "code",
      "execution_count": null,
      "metadata": {},
      "outputs": [],
      "source": []
    },
    {
      "cell_type": "code",
      "execution_count": null,
      "metadata": {},
      "outputs": [],
      "source": []
    }
  ],
  "metadata": {
    "colab": {
      "name": "Text Summarization - Frequency based algorithm.ipynb",
      "provenance": []
    },
    "kernelspec": {
      "display_name": "Python 3.7.11 ('base')",
      "language": "python",
      "name": "python3"
    },
    "language_info": {
      "codemirror_mode": {
        "name": "ipython",
        "version": 3
      },
      "file_extension": ".py",
      "mimetype": "text/x-python",
      "name": "python",
      "nbconvert_exporter": "python",
      "pygments_lexer": "ipython3",
      "version": "3.7.11"
    },
    "vscode": {
      "interpreter": {
        "hash": "1bcaa234541af14269647e78a58ff1e2c97283aefba8e8df69f3d751152a4c75"
      }
    }
  },
  "nbformat": 4,
  "nbformat_minor": 0
}
