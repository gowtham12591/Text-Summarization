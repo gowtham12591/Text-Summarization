{
  "cells": [
    {
      "cell_type": "markdown",
      "metadata": {
        "id": "IMuWhKBJ7bwV"
      },
      "source": [
        "# Text Summarization - Luhn algorithm\n",
        "\n",
        "- https://courses.ischool.berkeley.edu/i256/f06/papers/luhn58.pdf"
      ]
    },
    {
      "cell_type": "markdown",
      "metadata": {
        "id": "FyoFbahV8DCO"
      },
      "source": [
        "# Preparing the environment"
      ]
    },
    {
      "cell_type": "code",
      "execution_count": null,
      "metadata": {
        "id": "2Vk1t0I8XV2I",
        "vscode": {
          "languageId": "python"
        }
      },
      "outputs": [],
      "source": [
        "import re\n",
        "import nltk\n",
        "import string\n",
        "import heapq"
      ]
    },
    {
      "cell_type": "code",
      "execution_count": null,
      "metadata": {
        "colab": {
          "base_uri": "https://localhost:8080/"
        },
        "id": "JhBgeyETXY9_",
        "outputId": "b4421787-385a-4074-c41e-367a797fc242",
        "vscode": {
          "languageId": "python"
        }
      },
      "outputs": [],
      "source": [
        "nltk.download('punkt')"
      ]
    },
    {
      "cell_type": "code",
      "execution_count": null,
      "metadata": {
        "colab": {
          "base_uri": "https://localhost:8080/"
        },
        "id": "CA1uDtHqXaqy",
        "outputId": "de18e078-de07-4111-84bc-4a390fba7a94",
        "vscode": {
          "languageId": "python"
        }
      },
      "outputs": [],
      "source": [
        "nltk.download('stopwords')"
      ]
    },
    {
      "cell_type": "code",
      "execution_count": null,
      "metadata": {
        "colab": {
          "base_uri": "https://localhost:8080/",
          "height": 108
        },
        "id": "TchF3op_XcnO",
        "outputId": "15dea08e-b7d6-43e2-a6ab-e3f7ed3601ba",
        "vscode": {
          "languageId": "python"
        }
      },
      "outputs": [],
      "source": [
        "original_text = \"\"\"Artificial intelligence is human like intelligence machines. \n",
        "                   It is the study of intelligent artificial agents. \n",
        "                   Science and engineering to produce intelligent machines. \n",
        "                   Solve problems and have intelligence. \n",
        "                   Related to intelligent behavior machines. \n",
        "                   Developing of reasoning machines. \n",
        "                   Learn from mistakes and successes. \n",
        "                   Artificial intelligence is related to reasoning in everyday situations.\"\"\"\n",
        "original_text = re.sub(r'\\s+', ' ', original_text)\n",
        "original_text"
      ]
    },
    {
      "cell_type": "code",
      "execution_count": null,
      "metadata": {
        "colab": {
          "base_uri": "https://localhost:8080/"
        },
        "id": "LyQoxXKmXewi",
        "outputId": "e71aabbc-1ea1-42c4-9836-ac52e20751b8",
        "vscode": {
          "languageId": "python"
        }
      },
      "outputs": [],
      "source": [
        "stopwords = nltk.corpus.stopwords.words('english')\n",
        "print(stopwords)"
      ]
    },
    {
      "cell_type": "code",
      "execution_count": null,
      "metadata": {
        "id": "YcjR8By_1PrO",
        "vscode": {
          "languageId": "python"
        }
      },
      "outputs": [],
      "source": [
        "stopwords.append('explanation')"
      ]
    },
    {
      "cell_type": "code",
      "execution_count": null,
      "metadata": {
        "colab": {
          "base_uri": "https://localhost:8080/"
        },
        "id": "FyTR-nSy1WPO",
        "outputId": "5645b7a7-5e15-4e34-b84e-1bdb0f6f1a49",
        "vscode": {
          "languageId": "python"
        }
      },
      "outputs": [],
      "source": [
        "print(stopwords)"
      ]
    },
    {
      "cell_type": "code",
      "execution_count": null,
      "metadata": {
        "id": "0XMgl673Xho8",
        "vscode": {
          "languageId": "python"
        }
      },
      "outputs": [],
      "source": [
        "def preprocess(text):\n",
        "  formatted_text = text.lower()\n",
        "  tokens = []\n",
        "  for token in nltk.word_tokenize(formatted_text):\n",
        "    tokens.append(token)\n",
        "  tokens = [word for word in tokens if word not in stopwords and word not in string.punctuation]\n",
        "  formatted_text = ' '.join(element for element in tokens)\n",
        "\n",
        "  return formatted_text"
      ]
    },
    {
      "cell_type": "code",
      "execution_count": null,
      "metadata": {
        "colab": {
          "base_uri": "https://localhost:8080/",
          "height": 90
        },
        "id": "gRlO1-NgXjfw",
        "outputId": "2480a20f-841a-477b-f539-2ef0df5bf561",
        "vscode": {
          "languageId": "python"
        }
      },
      "outputs": [],
      "source": [
        "formatted_text = preprocess(original_text)\n",
        "formatted_text"
      ]
    },
    {
      "cell_type": "markdown",
      "metadata": {
        "id": "7p82fIty8K3n"
      },
      "source": [
        "# Function to calculate sentences score"
      ]
    },
    {
      "cell_type": "code",
      "execution_count": null,
      "metadata": {
        "id": "QuAqmGlkrEHF",
        "vscode": {
          "languageId": "python"
        }
      },
      "outputs": [],
      "source": [
        "def calculate_sentences_score(sentences, important_words, distance):\n",
        "  scores = []\n",
        "  sentence_index = 0\n",
        "\n",
        "  for sentence in [nltk.word_tokenize(sentence) for sentence in sentences]:\n",
        "    #print('------------')\n",
        "    #print(sentence)\n",
        "\n",
        "    word_index = []\n",
        "    for word in important_words:\n",
        "      #print(word)\n",
        "      try:\n",
        "        word_index.append(sentence.index(word))\n",
        "      except ValueError:\n",
        "        pass\n",
        "\n",
        "    word_index.sort()\n",
        "    #print(word_index)\n",
        "\n",
        "    if len(word_index) == 0:\n",
        "      continue\n",
        "\n",
        "    # [0, 1, 5]\n",
        "    groups_list = []\n",
        "    group = [word_index[0]]\n",
        "    i = 1 # 3\n",
        "    while i < len(word_index): # 3\n",
        "      # first execution: 1 - 0 = 1\n",
        "      # second execution: 2 - 1 = 1\n",
        "      if word_index[i] - word_index[i - 1] < distance:\n",
        "        group.append(word_index[i])\n",
        "        #print('group', group)\n",
        "      else:\n",
        "        groups_list.append(group[:])\n",
        "        group = [word_index[i]]\n",
        "        #print('group', group)\n",
        "      i += 1\n",
        "    groups_list.append(group)\n",
        "    #print('all groups', groups_list)\n",
        "\n",
        "    max_group_score = 0\n",
        "    for g in groups_list:\n",
        "      #print(g)\n",
        "      important_words_in_group = len(g)\n",
        "      total_words_in_group = g[-1] - g[0] + 1\n",
        "      score = 1.0 * important_words_in_group**2 / total_words_in_group\n",
        "      #print('group score', score)\n",
        "\n",
        "      if score > max_group_score:\n",
        "        max_group_score = score\n",
        "\n",
        "    scores.append((max_group_score, sentence_index))\n",
        "    sentence_index += 1\n",
        "\n",
        "  #print('final scores', scores)\n",
        "  return scores"
      ]
    },
    {
      "cell_type": "code",
      "execution_count": null,
      "metadata": {
        "colab": {
          "base_uri": "https://localhost:8080/"
        },
        "id": "WNVJj4bMuC_P",
        "outputId": "b3b8dc4e-dbbc-4c8b-f25d-e1c9fe5578ee",
        "vscode": {
          "languageId": "python"
        }
      },
      "outputs": [],
      "source": [
        "test = ['a', 'b', 'c']\n",
        "test.index('a')"
      ]
    },
    {
      "cell_type": "code",
      "execution_count": null,
      "metadata": {
        "colab": {
          "base_uri": "https://localhost:8080/"
        },
        "id": "Yhg66V2lC-Qj",
        "outputId": "51e6755f-156c-43b9-8a76-5a8501bece47",
        "vscode": {
          "languageId": "python"
        }
      },
      "outputs": [],
      "source": [
        "test = [0,1,3,4,6,9]\n",
        "test[-1], test[0] + 1"
      ]
    },
    {
      "cell_type": "code",
      "execution_count": null,
      "metadata": {
        "colab": {
          "base_uri": "https://localhost:8080/"
        },
        "id": "Ga0AtAbmDksi",
        "outputId": "77e663b3-c69e-4e06-9a5c-578d0df537b3",
        "vscode": {
          "languageId": "python"
        }
      },
      "outputs": [],
      "source": [
        "3*3"
      ]
    },
    {
      "cell_type": "markdown",
      "metadata": {
        "id": "LhfqSOJL8URO"
      },
      "source": [
        "# Function to summarize the texts"
      ]
    },
    {
      "cell_type": "code",
      "execution_count": null,
      "metadata": {
        "id": "vhXDxZ6Tdq-9",
        "vscode": {
          "languageId": "python"
        }
      },
      "outputs": [],
      "source": [
        "def summarize(text, top_n_words, distance, number_of_sentences, percentage = 0):\n",
        "  original_sentences = [sentence for sentence in nltk.sent_tokenize(text)]\n",
        "  #print(original_sentences)\n",
        "  formatted_sentences = [preprocess(original_sentence) for original_sentence in original_sentences]\n",
        "  #print(formatted_sentences)\n",
        "  words = [word for sentence in formatted_sentences for word in nltk.word_tokenize(sentence)]\n",
        "  #print(words)\n",
        "  frequency = nltk.FreqDist(words)\n",
        "  #print(frequency)\n",
        "  #return frequency\n",
        "  top_n_words = [word[0] for word in frequency.most_common(top_n_words)]\n",
        "  #print(top_n_words)\n",
        "  sentences_score = calculate_sentences_score(formatted_sentences, top_n_words, distance)\n",
        "  #print(sentences_score)\n",
        "  if percentage > 0:\n",
        "    best_sentences = heapq.nlargest(int(len(formatted_sentences) * percentage), sentences_score)\n",
        "  else:  \n",
        "    best_sentences = heapq.nlargest(number_of_sentences, sentences_score)\n",
        "  #print(best_sentences)\n",
        "  best_sentences = [original_sentences[i] for (score, i) in best_sentences]\n",
        "  #print(best_sentences)\n",
        "  return original_sentences, best_sentences, sentences_score"
      ]
    },
    {
      "cell_type": "code",
      "execution_count": null,
      "metadata": {
        "id": "sKLzRbsme0Zi",
        "vscode": {
          "languageId": "python"
        }
      },
      "outputs": [],
      "source": [
        "original_sentences, best_sentences, sentences_score = summarize(original_text, 5, 2, 3)"
      ]
    },
    {
      "cell_type": "code",
      "execution_count": null,
      "metadata": {
        "colab": {
          "base_uri": "https://localhost:8080/"
        },
        "id": "6XHKGk-wJOSP",
        "outputId": "59c60d97-7a8f-40d2-acdb-27f309e1afe4",
        "vscode": {
          "languageId": "python"
        }
      },
      "outputs": [],
      "source": [
        "original_sentences"
      ]
    },
    {
      "cell_type": "code",
      "execution_count": null,
      "metadata": {
        "colab": {
          "base_uri": "https://localhost:8080/"
        },
        "id": "wKyDj6uiJQb3",
        "outputId": "1332f7fe-e4d2-4ed7-8258-e2139621614d",
        "vscode": {
          "languageId": "python"
        }
      },
      "outputs": [],
      "source": [
        "best_sentences"
      ]
    },
    {
      "cell_type": "code",
      "execution_count": null,
      "metadata": {
        "colab": {
          "base_uri": "https://localhost:8080/"
        },
        "id": "FWS06whRJUIt",
        "outputId": "7e931ab1-1490-44ee-d706-db0f4b43cd21",
        "vscode": {
          "languageId": "python"
        }
      },
      "outputs": [],
      "source": [
        "sentences_score"
      ]
    },
    {
      "cell_type": "code",
      "execution_count": null,
      "metadata": {
        "id": "3sUgt07wJiV9",
        "vscode": {
          "languageId": "python"
        }
      },
      "outputs": [],
      "source": [
        "from IPython.core.display import HTML"
      ]
    },
    {
      "cell_type": "code",
      "execution_count": null,
      "metadata": {
        "id": "psOE1pWSJj63",
        "vscode": {
          "languageId": "python"
        }
      },
      "outputs": [],
      "source": [
        "def visualize(title, sentence_list, best_sentences):\n",
        "  from IPython.core.display import HTML\n",
        "  text = ''\n",
        "\n",
        "  display(HTML(f'<h1>Summary - {title}</h1>'))\n",
        "  for sentence in sentence_list:\n",
        "    if sentence in best_sentences:\n",
        "      text += ' ' + str(sentence).replace(sentence, f\"<mark>{sentence}</mark>\")\n",
        "    else:\n",
        "      text += ' ' + sentence\n",
        "  display(HTML(f\"\"\" {text} \"\"\"))"
      ]
    },
    {
      "cell_type": "markdown",
      "metadata": {
        "id": "80U_T1vKdoZE"
      },
      "source": [
        "# Extracting texts from the Internet"
      ]
    },
    {
      "cell_type": "code",
      "execution_count": null,
      "metadata": {
        "id": "QCIk2HR6drmX",
        "vscode": {
          "languageId": "python"
        }
      },
      "outputs": [],
      "source": [
        "!pip install goose3"
      ]
    },
    {
      "cell_type": "code",
      "execution_count": null,
      "metadata": {
        "id": "rCnUjPh_p2Yv",
        "vscode": {
          "languageId": "python"
        }
      },
      "outputs": [],
      "source": [
        "from goose3 import Goose"
      ]
    },
    {
      "cell_type": "code",
      "execution_count": null,
      "metadata": {
        "id": "1eW1Ikvfp7GN",
        "vscode": {
          "languageId": "python"
        }
      },
      "outputs": [],
      "source": [
        "g = Goose()\n",
        "url = 'https://en.wikipedia.org/wiki/Automatic_summarization'\n",
        "article = g.extract(url)"
      ]
    },
    {
      "cell_type": "code",
      "execution_count": null,
      "metadata": {
        "colab": {
          "base_uri": "https://localhost:8080/",
          "height": 232
        },
        "id": "Ay5tZZkKqLsP",
        "outputId": "d29e8310-0030-455f-ba33-8cebdd27a376",
        "vscode": {
          "languageId": "python"
        }
      },
      "outputs": [],
      "source": [
        "article.cleaned_text"
      ]
    },
    {
      "cell_type": "code",
      "execution_count": null,
      "metadata": {
        "id": "dkQlvGpBrRY7",
        "vscode": {
          "languageId": "python"
        }
      },
      "outputs": [],
      "source": [
        "original_sentences, best_sentences, score_sentences = summarize(article.cleaned_text, 300, 10, 120)"
      ]
    },
    {
      "cell_type": "code",
      "execution_count": null,
      "metadata": {
        "colab": {
          "base_uri": "https://localhost:8080/"
        },
        "id": "ag0cEcIPsA5O",
        "outputId": "1bd0cb96-072a-4a88-813d-4c498f918f6d",
        "vscode": {
          "languageId": "python"
        }
      },
      "outputs": [],
      "source": [
        "len(original_sentences)"
      ]
    },
    {
      "cell_type": "code",
      "execution_count": null,
      "metadata": {
        "colab": {
          "base_uri": "https://localhost:8080/"
        },
        "id": "Fd-u34bdsI4t",
        "outputId": "133410b5-70c4-417f-835d-839aed0b4ce4",
        "vscode": {
          "languageId": "python"
        }
      },
      "outputs": [],
      "source": [
        "(120 / len(original_sentences)) * 100"
      ]
    },
    {
      "cell_type": "code",
      "execution_count": null,
      "metadata": {
        "colab": {
          "base_uri": "https://localhost:8080/"
        },
        "id": "SdTuebhCsQy-",
        "outputId": "5d056d0a-6f57-48ef-b2e4-d1ebf84821cd",
        "vscode": {
          "languageId": "python"
        }
      },
      "outputs": [],
      "source": [
        "original_sentences"
      ]
    },
    {
      "cell_type": "code",
      "execution_count": null,
      "metadata": {
        "colab": {
          "base_uri": "https://localhost:8080/"
        },
        "id": "tf8Cmm3esVZ-",
        "outputId": "9bc5abce-f387-4e47-bd93-c507a09a35d3",
        "vscode": {
          "languageId": "python"
        }
      },
      "outputs": [],
      "source": [
        "best_sentences"
      ]
    },
    {
      "cell_type": "code",
      "execution_count": null,
      "metadata": {
        "colab": {
          "base_uri": "https://localhost:8080/"
        },
        "id": "WtEZ0b84sZfJ",
        "outputId": "0ad66d9f-6a9d-48d4-ea7e-e75f204bb694",
        "vscode": {
          "languageId": "python"
        }
      },
      "outputs": [],
      "source": [
        "score_sentences"
      ]
    },
    {
      "cell_type": "code",
      "execution_count": null,
      "metadata": {
        "colab": {
          "base_uri": "https://localhost:8080/",
          "height": 1000
        },
        "id": "-QdMmv2Rs4t9",
        "outputId": "b712ec90-484e-41fa-bfeb-d4174eeab5c0",
        "vscode": {
          "languageId": "python"
        }
      },
      "outputs": [],
      "source": [
        "visualize(article.title, original_sentences,  best_sentences)"
      ]
    },
    {
      "cell_type": "markdown",
      "metadata": {
        "id": "AVwwbUA1t0ij"
      },
      "source": [
        "# Extracting articles from RSS feeds\n",
        "- RSS : It is a webfeed that allows users and applications to access the latest websites in a computer redable format\n",
        "- The feeds can keep a track of different websites\n",
        "- AI feeds: https://blog.feedspot.com/ai_rss_feeds/"
      ]
    },
    {
      "cell_type": "code",
      "execution_count": null,
      "metadata": {
        "id": "2O8Uoj_Eu1DL",
        "vscode": {
          "languageId": "python"
        }
      },
      "outputs": [],
      "source": [
        "!pip install feedparser"
      ]
    },
    {
      "cell_type": "code",
      "execution_count": null,
      "metadata": {
        "id": "lbclFXJIu6bE",
        "vscode": {
          "languageId": "python"
        }
      },
      "outputs": [],
      "source": [
        "import feedparser"
      ]
    },
    {
      "cell_type": "code",
      "execution_count": null,
      "metadata": {
        "id": "7Xj3kVdGu_fh",
        "vscode": {
          "languageId": "python"
        }
      },
      "outputs": [],
      "source": [
        "from bs4 import BeautifulSoup  # This is used to remove the html codes extracted from the articles\n",
        "import os\n",
        "import json # Common format used to send information in the internet"
      ]
    },
    {
      "cell_type": "code",
      "execution_count": null,
      "metadata": {
        "id": "1IKB37rTvTEo",
        "vscode": {
          "languageId": "python"
        }
      },
      "outputs": [],
      "source": [
        "url = 'https://www.aitrends.com/feed/'\n",
        "feed = feedparser.parse(url)"
      ]
    },
    {
      "cell_type": "code",
      "execution_count": null,
      "metadata": {
        "colab": {
          "base_uri": "https://localhost:8080/"
        },
        "id": "BCSYgb9Wvy52",
        "outputId": "cdb681a5-6729-4d84-ce0f-263681f36f00",
        "vscode": {
          "languageId": "python"
        }
      },
      "outputs": [],
      "source": [
        "feed.entries"
      ]
    },
    {
      "cell_type": "code",
      "execution_count": null,
      "metadata": {
        "colab": {
          "base_uri": "https://localhost:8080/"
        },
        "id": "bCP5hTsBv9xu",
        "outputId": "008304a5-1f65-44c8-8c68-821241ef4598",
        "vscode": {
          "languageId": "python"
        }
      },
      "outputs": [],
      "source": [
        "for e in feed.entries:\n",
        "  print(e.title)   # Displays the title that are in the feed\n",
        "  print(e.content[0].value) # Selects the values in the content. Value contains the required text needed for sumarization.\n",
        "  print('-------')"
      ]
    },
    {
      "cell_type": "code",
      "execution_count": null,
      "metadata": {
        "id": "WOkCDsKKwiH2",
        "vscode": {
          "languageId": "python"
        }
      },
      "outputs": [],
      "source": [
        "def clean_html(text): # Removes the html codes in the text\n",
        "  if text == '':\n",
        "    return ''\n",
        "  else:\n",
        "    return BeautifulSoup(text, 'html5lib').get_text()   "
      ]
    },
    {
      "cell_type": "code",
      "execution_count": null,
      "metadata": {
        "colab": {
          "base_uri": "https://localhost:8080/",
          "height": 232
        },
        "id": "cdjUEhBBw7wS",
        "outputId": "2e8b12b7-3b4a-4e19-9e04-623ba42eaf0c",
        "vscode": {
          "languageId": "python"
        }
      },
      "outputs": [],
      "source": [
        "e.content[0].value"
      ]
    },
    {
      "cell_type": "code",
      "execution_count": null,
      "metadata": {
        "colab": {
          "base_uri": "https://localhost:8080/",
          "height": 232
        },
        "id": "8fSbJ7T8xA2k",
        "outputId": "0606e642-8239-4dbe-dd32-55ad5c50c257",
        "vscode": {
          "languageId": "python"
        }
      },
      "outputs": [],
      "source": [
        "clean_html(e.content[0].value)"
      ]
    },
    {
      "cell_type": "code",
      "execution_count": null,
      "metadata": {
        "id": "duPRQIiRxHU4",
        "vscode": {
          "languageId": "python"
        }
      },
      "outputs": [],
      "source": [
        "articles = []\n",
        "for e in feed.entries:\n",
        "  articles.append({'title': e.title, 'content': clean_html(e.content[0].value)})"
      ]
    },
    {
      "cell_type": "code",
      "execution_count": null,
      "metadata": {
        "colab": {
          "base_uri": "https://localhost:8080/"
        },
        "id": "wVNliCOWxVtf",
        "outputId": "62481ae1-17f0-4b5f-fc2d-cfb635833400",
        "vscode": {
          "languageId": "python"
        }
      },
      "outputs": [],
      "source": [
        "articles"
      ]
    },
    {
      "cell_type": "code",
      "execution_count": null,
      "metadata": {
        "id": "GiT6Z50uxl2y",
        "vscode": {
          "languageId": "python"
        }
      },
      "outputs": [],
      "source": [
        "save_file = os.path.join('feed.json')\n",
        "feed = open(save_file, 'w+')\n",
        "feed.write(json.dumps(articles, indent=1))\n",
        "feed.close()"
      ]
    },
    {
      "cell_type": "code",
      "execution_count": null,
      "metadata": {
        "colab": {
          "base_uri": "https://localhost:8080/"
        },
        "id": "yYqBN3THyQwH",
        "outputId": "32652130-b0ec-4d9f-c76c-8da8c51cc4e0",
        "vscode": {
          "languageId": "python"
        }
      },
      "outputs": [],
      "source": [
        "blog_articles = json.loads(open('feed.json').read())\n",
        "blog_articles"
      ]
    },
    {
      "cell_type": "markdown",
      "metadata": {
        "id": "02VRDQZpzM8J"
      },
      "source": [
        "# Word cloud"
      ]
    },
    {
      "cell_type": "code",
      "execution_count": null,
      "metadata": {
        "id": "7dYDJJh1zOlz",
        "vscode": {
          "languageId": "python"
        }
      },
      "outputs": [],
      "source": [
        "feed_content = ''\n",
        "for article in blog_articles:\n",
        "  feed_content += article['content']"
      ]
    },
    {
      "cell_type": "code",
      "execution_count": null,
      "metadata": {
        "colab": {
          "base_uri": "https://localhost:8080/",
          "height": 232
        },
        "id": "uxW2MOHXzwZk",
        "outputId": "d362adbc-d7a6-4863-9240-94a275b95041",
        "vscode": {
          "languageId": "python"
        }
      },
      "outputs": [],
      "source": [
        "feed_content"
      ]
    },
    {
      "cell_type": "code",
      "execution_count": null,
      "metadata": {
        "colab": {
          "base_uri": "https://localhost:8080/",
          "height": 232
        },
        "id": "Y1ADKxyBz11M",
        "outputId": "a95f56ee-dc26-4be2-f55b-70a3d838fe25",
        "vscode": {
          "languageId": "python"
        }
      },
      "outputs": [],
      "source": [
        "formatted_feed_content = preprocess(feed_content)\n",
        "formatted_feed_content"
      ]
    },
    {
      "cell_type": "code",
      "execution_count": null,
      "metadata": {
        "colab": {
          "base_uri": "https://localhost:8080/"
        },
        "id": "dPeN2wBw0D2S",
        "outputId": "d62c7c08-6715-4d2b-f93c-88740ae88879",
        "vscode": {
          "languageId": "python"
        }
      },
      "outputs": [],
      "source": [
        "len(feed_content), len(formatted_feed_content)"
      ]
    },
    {
      "cell_type": "code",
      "execution_count": null,
      "metadata": {
        "colab": {
          "base_uri": "https://localhost:8080/",
          "height": 395
        },
        "id": "1zfpPhLO0OLN",
        "outputId": "2b43225e-8505-486f-f6c2-816000aea130",
        "vscode": {
          "languageId": "python"
        }
      },
      "outputs": [],
      "source": [
        "from wordcloud import WordCloud\n",
        "import matplotlib.pyplot as plt\n",
        "plt.figure(figsize=(20,20))\n",
        "plt.axis('off')\n",
        "plt.imshow(WordCloud().generate(formatted_feed_content));"
      ]
    },
    {
      "cell_type": "markdown",
      "metadata": {
        "id": "08-PbwZB2NyI"
      },
      "source": [
        "# Extracting named entities\n",
        "\n",
        "- Acronyms: https://spacy.io/api/annotation#named-entities"
      ]
    },
    {
      "cell_type": "code",
      "execution_count": null,
      "metadata": {
        "id": "BOajC_T52OnA",
        "vscode": {
          "languageId": "python"
        }
      },
      "outputs": [],
      "source": [
        "import spacy"
      ]
    },
    {
      "cell_type": "code",
      "execution_count": null,
      "metadata": {
        "colab": {
          "base_uri": "https://localhost:8080/"
        },
        "id": "AeqcPunc3QV3",
        "outputId": "977fb8d1-3fb8-4079-d99f-190462c62a1e",
        "vscode": {
          "languageId": "python"
        }
      },
      "outputs": [],
      "source": [
        "nlp = spacy.load('en')\n",
        "nlp"
      ]
    },
    {
      "cell_type": "code",
      "execution_count": null,
      "metadata": {
        "id": "EbtTkohf3iJ7",
        "vscode": {
          "languageId": "python"
        }
      },
      "outputs": [],
      "source": [
        "document = nlp(formatted_feed_content)"
      ]
    },
    {
      "cell_type": "code",
      "execution_count": null,
      "metadata": {
        "colab": {
          "base_uri": "https://localhost:8080/",
          "height": 1000
        },
        "id": "JT9Zh1_x3pPS",
        "outputId": "1c006f30-f471-4c4c-bc72-f4c981ee740e",
        "vscode": {
          "languageId": "python"
        }
      },
      "outputs": [],
      "source": [
        "from spacy import displacy\n",
        "displacy.render(document, style = 'ent', jupyter = True)"
      ]
    },
    {
      "cell_type": "code",
      "execution_count": null,
      "metadata": {
        "colab": {
          "base_uri": "https://localhost:8080/"
        },
        "id": "_3_UcUB04cEC",
        "outputId": "fd82b945-4c19-4fe8-84d2-69722ca4a142",
        "vscode": {
          "languageId": "python"
        }
      },
      "outputs": [],
      "source": [
        "for entity in document.ents:\n",
        "  if entity.label_ == 'GPE':\n",
        "    print(entity.text, entity.label_)"
      ]
    },
    {
      "cell_type": "markdown",
      "metadata": {
        "id": "4pwVqcvj5Rdd"
      },
      "source": [
        "# Summarizing the articles"
      ]
    },
    {
      "cell_type": "code",
      "execution_count": null,
      "metadata": {
        "colab": {
          "base_uri": "https://localhost:8080/",
          "height": 1000
        },
        "id": "jlfWdc505ZOS",
        "outputId": "f42e4f10-23c0-4f15-89f9-2573e831f9cd",
        "vscode": {
          "languageId": "python"
        }
      },
      "outputs": [],
      "source": [
        "for article in blog_articles:\n",
        "  #print(article)\n",
        "  original_sentences, best_sentences, _ = summarize(article['content'], 150, 10, number_of_sentences=5, percentage=0.5)\n",
        "  visualize(article['title'], original_sentences, best_sentences)\n",
        "  save_summary(article['title'], original_sentences, best_sentences)"
      ]
    },
    {
      "cell_type": "markdown",
      "metadata": {
        "id": "vPKC--Sf8oUL"
      },
      "source": [
        "# Saving the summary"
      ]
    },
    {
      "cell_type": "code",
      "execution_count": null,
      "metadata": {
        "id": "i0t7r_zD9A9E",
        "vscode": {
          "languageId": "python"
        }
      },
      "outputs": [],
      "source": [
        "def save_summary(title, original_sentences, best_sentences):\n",
        "  HTML_TEMPLATE = \"\"\"<html>\n",
        "    <head>\n",
        "      <title>{0}</title>\n",
        "      <meta http-equiv=\"Content-Type\" content=\"text/html; charset=UTF-8\" />\n",
        "    </head>\n",
        "    <body>{1}</body>\n",
        "\n",
        "  </html>\"\"\"\n",
        "  text = ''\n",
        "  for sentence in original_sentences:\n",
        "    if sentence in best_sentences:\n",
        "      text += str(sentence).replace(sentence, f\"<mark>{sentence}</mark>\")\n",
        "    else:\n",
        "      text += sentence\n",
        "  \n",
        "  save_file = open(os.path.join(title + '.html'), 'wb')\n",
        "  html_file = HTML_TEMPLATE.format(title, text)\n",
        "  save_file.write(html_file.encode('utf-8'))\n",
        "  save_file.close()"
      ]
    }
  ],
  "metadata": {
    "colab": {
      "collapsed_sections": [],
      "name": "Text Summarization - Luhn algorithm.ipynb",
      "provenance": []
    },
    "kernelspec": {
      "display_name": "Python 3",
      "name": "python3"
    }
  },
  "nbformat": 4,
  "nbformat_minor": 0
}
