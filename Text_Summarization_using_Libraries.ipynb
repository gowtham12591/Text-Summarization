{
  "cells": [
    {
      "cell_type": "markdown",
      "metadata": {
        "id": "e3oajPnc63dX"
      },
      "source": [
        "# Text summarizatin using libraries"
      ]
    },
    {
      "cell_type": "markdown",
      "metadata": {
        "id": "3vrmS88U7Sc4"
      },
      "source": [
        "# Preparing the environment"
      ]
    },
    {
      "cell_type": "code",
      "execution_count": null,
      "metadata": {
        "colab": {
          "base_uri": "https://localhost:8080/"
        },
        "id": "weiRapuF76s1",
        "outputId": "dc4ba818-511a-46ff-b24e-7e51e964e58f",
        "vscode": {
          "languageId": "python"
        }
      },
      "outputs": [],
      "source": [
        "import nltk\n",
        "import re\n",
        "nltk.download('punkt')"
      ]
    },
    {
      "cell_type": "code",
      "execution_count": null,
      "metadata": {
        "colab": {
          "base_uri": "https://localhost:8080/"
        },
        "id": "tW8PS7ey7VwO",
        "outputId": "d58b8f19-f34a-4725-9a5a-fe0b80876647",
        "vscode": {
          "languageId": "python"
        }
      },
      "outputs": [],
      "source": [
        "!pip install goose3"
      ]
    },
    {
      "cell_type": "code",
      "execution_count": null,
      "metadata": {
        "id": "M3NlgusO7ZA8",
        "vscode": {
          "languageId": "python"
        }
      },
      "outputs": [],
      "source": [
        "from goose3 import Goose\n",
        "g = Goose()\n",
        "url = 'https://en.wikipedia.org/wiki/Automatic_summarization'\n",
        "article = g.extract(url)"
      ]
    },
    {
      "cell_type": "code",
      "execution_count": null,
      "metadata": {
        "colab": {
          "base_uri": "https://localhost:8080/",
          "height": 140
        },
        "id": "FkiGHfTy7lIP",
        "outputId": "7b5b334d-a238-4acc-a725-e535ecf8828a",
        "vscode": {
          "languageId": "python"
        }
      },
      "outputs": [],
      "source": [
        "article.cleaned_text"
      ]
    },
    {
      "cell_type": "code",
      "execution_count": null,
      "metadata": {
        "colab": {
          "base_uri": "https://localhost:8080/"
        },
        "id": "mrcGh-cI7smU",
        "outputId": "c73fcdd0-8efa-4c8e-951d-5f0da954fb19",
        "vscode": {
          "languageId": "python"
        }
      },
      "outputs": [],
      "source": [
        "original_sentences = [sentence for sentence in nltk.sent_tokenize(article.cleaned_text)]\n",
        "original_sentences"
      ]
    },
    {
      "cell_type": "code",
      "execution_count": null,
      "metadata": {
        "id": "T8knHJ-F6sPn",
        "vscode": {
          "languageId": "python"
        }
      },
      "outputs": [],
      "source": [
        "from IPython.core.display import HTML\n",
        "def visualize(title, sentence_list, best_sentences):\n",
        "  text = ''\n",
        "\n",
        "  display(HTML(f'<h1>Summary - {title}</h1>'))\n",
        "  for sentence in sentence_list:\n",
        "    if sentence in best_sentences:\n",
        "      text += ' ' + str(sentence).replace(sentence, f\"<mark>{sentence}</mark>\")\n",
        "    else:\n",
        "      text += ' ' + sentence\n",
        "  display(HTML(f\"\"\" {text} \"\"\"))"
      ]
    },
    {
      "cell_type": "markdown",
      "metadata": {
        "id": "u1TWH_Jx7Kc7"
      },
      "source": [
        "## sumy\n",
        "\n",
        "- https://pypi.org/project/sumy/"
      ]
    },
    {
      "cell_type": "code",
      "execution_count": null,
      "metadata": {
        "colab": {
          "base_uri": "https://localhost:8080/"
        },
        "id": "kACo0qDXLp5E",
        "outputId": "ed4d1659-c8e0-4afd-dd2f-936d40276a94",
        "vscode": {
          "languageId": "python"
        }
      },
      "outputs": [],
      "source": [
        "!pip install sumy"
      ]
    },
    {
      "cell_type": "code",
      "execution_count": null,
      "metadata": {
        "id": "pGmmx_z4LyAH",
        "vscode": {
          "languageId": "python"
        }
      },
      "outputs": [],
      "source": [
        "from sumy.parsers.plaintext import PlaintextParser\n",
        "from sumy.nlp.tokenizers import Tokenizer\n",
        "from sumy.summarizers.luhn import LuhnSummarizer"
      ]
    },
    {
      "cell_type": "code",
      "execution_count": null,
      "metadata": {
        "id": "risPlH5GMIUJ",
        "vscode": {
          "languageId": "python"
        }
      },
      "outputs": [],
      "source": [
        "parser = PlaintextParser.from_string(article.cleaned_text, Tokenizer('english'))"
      ]
    },
    {
      "cell_type": "code",
      "execution_count": null,
      "metadata": {
        "id": "SPk87EYVMgWY",
        "vscode": {
          "languageId": "python"
        }
      },
      "outputs": [],
      "source": [
        "summarizer = LuhnSummarizer()"
      ]
    },
    {
      "cell_type": "code",
      "execution_count": null,
      "metadata": {
        "id": "HwA4OQ5RMkgt",
        "vscode": {
          "languageId": "python"
        }
      },
      "outputs": [],
      "source": [
        "summary = summarizer(parser.document, 120)"
      ]
    },
    {
      "cell_type": "code",
      "execution_count": null,
      "metadata": {
        "colab": {
          "base_uri": "https://localhost:8080/"
        },
        "id": "UTBuRPJ_M0z6",
        "outputId": "2cdd72b8-4587-4e33-8599-3faa99a8dcd4",
        "vscode": {
          "languageId": "python"
        }
      },
      "outputs": [],
      "source": [
        "summary"
      ]
    },
    {
      "cell_type": "code",
      "execution_count": null,
      "metadata": {
        "id": "bY428b13M8K4",
        "vscode": {
          "languageId": "python"
        }
      },
      "outputs": [],
      "source": [
        "best_sentences = []\n",
        "for sentence in summary:\n",
        "  #print(sentence)\n",
        "  best_sentences.append(str(sentence))"
      ]
    },
    {
      "cell_type": "code",
      "execution_count": null,
      "metadata": {
        "colab": {
          "base_uri": "https://localhost:8080/",
          "height": 1000
        },
        "id": "DCuw_PW2NNkQ",
        "outputId": "9f626933-73a6-48a7-c03c-8ea0fa9c3b82",
        "vscode": {
          "languageId": "python"
        }
      },
      "outputs": [],
      "source": [
        "visualize(article.title, original_sentences, best_sentences)"
      ]
    },
    {
      "cell_type": "markdown",
      "metadata": {
        "id": "UGnV_6KO8IlO"
      },
      "source": [
        "## pysummarization\n",
        "\n",
        "- https://pypi.org/project/pysummarization/"
      ]
    },
    {
      "cell_type": "code",
      "execution_count": null,
      "metadata": {
        "colab": {
          "base_uri": "https://localhost:8080/"
        },
        "id": "5Kvkl26FPkm5",
        "outputId": "aa2be84e-f709-463a-f0a3-8b9c1672ba8a",
        "vscode": {
          "languageId": "python"
        }
      },
      "outputs": [],
      "source": [
        "!pip install pysummarization"
      ]
    },
    {
      "cell_type": "code",
      "execution_count": null,
      "metadata": {
        "id": "sEAyEY16PsEf",
        "vscode": {
          "languageId": "python"
        }
      },
      "outputs": [],
      "source": [
        "from pysummarization.nlpbase.auto_abstractor import AutoAbstractor\n",
        "from pysummarization.tokenizabledoc.simple_tokenizer import SimpleTokenizer\n",
        "from pysummarization.abstractabledoc.top_n_rank_abstractor import TopNRankAbstractor"
      ]
    },
    {
      "cell_type": "code",
      "execution_count": null,
      "metadata": {
        "id": "gXfKabIDQGHY",
        "vscode": {
          "languageId": "python"
        }
      },
      "outputs": [],
      "source": [
        "auto_abstractor = AutoAbstractor()\n",
        "auto_abstractor.tokenizable_doc = SimpleTokenizer()\n",
        "auto_abstractor.delimiter_list = [\".\", \"\\n\"]\n",
        "abstractable_doc = TopNRankAbstractor()"
      ]
    },
    {
      "cell_type": "code",
      "execution_count": null,
      "metadata": {
        "id": "UJbUzUS7QlIZ",
        "vscode": {
          "languageId": "python"
        }
      },
      "outputs": [],
      "source": [
        "summary = auto_abstractor.summarize(article.cleaned_text, abstractable_doc)"
      ]
    },
    {
      "cell_type": "code",
      "execution_count": null,
      "metadata": {
        "colab": {
          "base_uri": "https://localhost:8080/"
        },
        "id": "s3HZqXkIQvUV",
        "outputId": "0a7b0b6b-80c0-40c8-f744-c22bbdb1a70d",
        "vscode": {
          "languageId": "python"
        }
      },
      "outputs": [],
      "source": [
        "summary"
      ]
    },
    {
      "cell_type": "code",
      "execution_count": null,
      "metadata": {
        "id": "6M2PtihMREJf",
        "vscode": {
          "languageId": "python"
        }
      },
      "outputs": [],
      "source": [
        "best_sentences = []\n",
        "for sentence in summary['summarize_result']:\n",
        "  #print(sentence)\n",
        "  best_sentences.append(re.sub(r'\\s+', ' ', sentence).strip())"
      ]
    },
    {
      "cell_type": "code",
      "execution_count": null,
      "metadata": {
        "colab": {
          "base_uri": "https://localhost:8080/"
        },
        "id": "mSbg3Jf-RcIz",
        "outputId": "862aeba1-4de0-4410-efe6-4d74b866c6ae",
        "vscode": {
          "languageId": "python"
        }
      },
      "outputs": [],
      "source": [
        "best_sentences"
      ]
    },
    {
      "cell_type": "code",
      "execution_count": null,
      "metadata": {
        "colab": {
          "base_uri": "https://localhost:8080/",
          "height": 1000
        },
        "id": "Ll0Al8pORRlq",
        "outputId": "8242477d-9907-47a7-c4a7-046891bc2dd8",
        "vscode": {
          "languageId": "python"
        }
      },
      "outputs": [],
      "source": [
        "visualize(article.title, original_sentences, best_sentences)"
      ]
    },
    {
      "cell_type": "markdown",
      "metadata": {
        "id": "bhTq9pdG8f_r"
      },
      "source": [
        "## BERT\n",
        "\n",
        "- https://pypi.org/project/bert-extractive-summarizer/"
      ]
    },
    {
      "cell_type": "code",
      "execution_count": null,
      "metadata": {
        "colab": {
          "base_uri": "https://localhost:8080/"
        },
        "id": "iUeURhk_Uhkq",
        "outputId": "4560a0ea-12dd-4010-9747-555d0329999c",
        "vscode": {
          "languageId": "python"
        }
      },
      "outputs": [],
      "source": [
        "!pip install bert-extractive-summarizer"
      ]
    },
    {
      "cell_type": "code",
      "execution_count": null,
      "metadata": {
        "colab": {
          "base_uri": "https://localhost:8080/"
        },
        "id": "Aj6uHUlMb3fL",
        "outputId": "8a926d7b-63cf-4bf4-8833-77987dd07609",
        "vscode": {
          "languageId": "python"
        }
      },
      "outputs": [],
      "source": [
        "!pip install git+https://github.com/huggingface/transformers"
      ]
    },
    {
      "cell_type": "code",
      "execution_count": null,
      "metadata": {
        "id": "xsO_Z3LvQ9AX",
        "vscode": {
          "languageId": "python"
        }
      },
      "outputs": [],
      "source": [
        "from transformers import BigBirdTokenizer"
      ]
    },
    {
      "cell_type": "code",
      "execution_count": null,
      "metadata": {
        "colab": {
          "base_uri": "https://localhost:8080/",
          "height": 450
        },
        "id": "C5Y6OT3PU0PW",
        "outputId": "81eedc58-633f-41f9-f375-1712cc92220c",
        "vscode": {
          "languageId": "python"
        }
      },
      "outputs": [],
      "source": [
        "from summarizer import Summarizer"
      ]
    },
    {
      "cell_type": "code",
      "execution_count": null,
      "metadata": {
        "colab": {
          "base_uri": "https://localhost:8080/"
        },
        "id": "59rRK3ycVJw_",
        "outputId": "bdf26e0b-72f1-4ff0-f324-4635ef1b6c58",
        "vscode": {
          "languageId": "python"
        }
      },
      "outputs": [],
      "source": [
        "summarizer = Summarizer()\n",
        "summary = summarizer(article.cleaned_text)"
      ]
    },
    {
      "cell_type": "code",
      "execution_count": null,
      "metadata": {
        "colab": {
          "base_uri": "https://localhost:8080/"
        },
        "id": "3sDvOljSWXqU",
        "outputId": "7a921590-fbd3-4d35-b1c1-32f8e8e60283",
        "vscode": {
          "languageId": "python"
        }
      },
      "outputs": [],
      "source": [
        "summary"
      ]
    },
    {
      "cell_type": "code",
      "execution_count": null,
      "metadata": {
        "colab": {
          "base_uri": "https://localhost:8080/"
        },
        "id": "K5D1JJGUWfjj",
        "outputId": "fcc9d50e-9df5-43da-e3ff-4fabc2ce3891",
        "vscode": {
          "languageId": "python"
        }
      },
      "outputs": [],
      "source": [
        "summary_tokenized = [sentence for sentence in nltk.sent_tokenize(summary)]\n",
        "summary_tokenized"
      ]
    },
    {
      "cell_type": "code",
      "execution_count": null,
      "metadata": {
        "colab": {
          "base_uri": "https://localhost:8080/"
        },
        "id": "XAbf88iXWqZb",
        "outputId": "f62d90f6-e4cd-4ce2-fced-8b5604592a6c",
        "vscode": {
          "languageId": "python"
        }
      },
      "outputs": [],
      "source": [
        "visualize(article.title, original_sentences, summary_tokenized)"
      ]
    }
  ],
  "metadata": {
    "accelerator": "GPU",
    "colab": {
      "collapsed_sections": [],
      "name": "Text Summarization using Libraries.ipynb",
      "provenance": []
    },
    "kernelspec": {
      "display_name": "Python 3",
      "name": "python3"
    }
  },
  "nbformat": 4,
  "nbformat_minor": 0
}
